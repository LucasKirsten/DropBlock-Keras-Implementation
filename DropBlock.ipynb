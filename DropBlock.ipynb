{
 "cells": [
  {
   "cell_type": "markdown",
   "metadata": {},
   "source": [
    "# DropBlock: A regularization method for convolutional networks\n",
    "### Paper Reproduction"
   ]
  },
  {
   "cell_type": "code",
   "execution_count": 7,
   "metadata": {},
   "outputs": [
    {
     "name": "stderr",
     "output_type": "stream",
     "text": [
      "Using TensorFlow backend.\n"
     ]
    }
   ],
   "source": [
    "from keras import backend as K\n",
    "from keras.engine.topology import Layer\n",
    "from scipy.stats import bernoulli\n",
    "import copy"
   ]
  },
  {
   "cell_type": "code",
   "execution_count": 8,
   "metadata": {},
   "outputs": [],
   "source": [
    "class DropBlock(Layer):\n",
    "    \"\"\"\n",
    "    Regularization Technique for Convolutional Layers.\n",
    "    \n",
    "    Pseudocode:\n",
    "    1: Input:output activations of a layer (A), block_size, γ, mode\n",
    "    2: if mode == Inference then\n",
    "    3: return A\n",
    "    4: end if\n",
    "    5: Randomly sample mask M: Mi,j ∼ Bernoulli(γ)\n",
    "    6: For each zero position Mi,j , create a spatial square mask with the center being Mi,j , the width,\n",
    "        height being block_size and set all the values of M in the square to be zero (see Figure 2).\n",
    "    7: Apply the mask: A = A × M\n",
    "    8: Normalize the features: A = A × count(M)/count_ones(M)\n",
    "    \n",
    "    # Arguments\n",
    "        block_size: A Python integer. The size of the block to be dropped.\n",
    "        gamma: float between 0 and 1. controls how many activation units to drop.\n",
    "        seed: A Python integer to use as random seed.\n",
    "    # References\n",
    "        - [DropBlock: A regularization method for convolutional networks](\n",
    "           https://arxiv.org/pdf/1810.12890v1.pdf)\n",
    "    \"\"\"\n",
    "    def __init__(self, block_size, keep_prob, seed=None, **kwargs):\n",
    "        super(DropBlock, self).__init__(**kwargs)\n",
    "        self.block_size = block_size\n",
    "        self.keep_prob = keep_prob\n",
    "        self.seed = seed\n",
    "\n",
    "    def call(self, x, training=None):\n",
    "        \n",
    "        # During inference, we do not Drop Blocks. (Similar to DropOut)\n",
    "        if training == None:\n",
    "            return x\n",
    "        \n",
    "        # Calculate Gamma\n",
    "        feat_size = x.shape[0]\n",
    "        gamma = (1-self.keep_prob / self.block_size**2) * (feat_size**2 / (feat_size-self.block_size+1)**2)\n",
    "        \n",
    "        padding = self.block_size//2\n",
    "        \n",
    "        # Randomly sample mask\n",
    "        sample = bernoulli.rvs(size=(feat_size-padding, feat_size-padding),p=gamma)\n",
    "    \n",
    "        # For each 0, create spatial square mask of shape (block_size x block_size)\n",
    "        mask = copy.copy(sample)\n",
    "        for x in range(height):\n",
    "            for y in range(width):\n",
    "                if sample[x, y]==0:\n",
    "                    mask[x-padding : x+padding+1, y-padding : y+padding+1] = 0\n",
    "        \n",
    "        # Pad the mask with ones\n",
    "        mask = np.pad(mask, pad_width=1, mode='constant', constant_values=1)\n",
    "        \n",
    "        # Apply the mask\n",
    "        x = x * mask\n",
    "        \n",
    "        # Normalize the features\n",
    "        count = np.prod(a.shape)\n",
    "        count_ones = np.count_nonzero(a == 1)\n",
    "        x = x * count / count_ones\n",
    "        \n",
    "        return x\n",
    "        \n",
    "    def get_config(self):\n",
    "        config = {'block_size': self.block_size,\n",
    "                  'gamma': self.gamma,\n",
    "                  'seed': self.seed}\n",
    "        base_config = super(DropBlock, self).get_config()\n",
    "        return dict(list(base_config.items()) + list(config.items()))\n",
    "        \n",
    "    def compute_output_shape(self, input_shape):\n",
    "        return input_shape"
   ]
  }
 ],
 "metadata": {
  "kernelspec": {
   "display_name": "Python 3",
   "language": "python",
   "name": "python3"
  },
  "language_info": {
   "codemirror_mode": {
    "name": "ipython",
    "version": 3
   },
   "file_extension": ".py",
   "mimetype": "text/x-python",
   "name": "python",
   "nbconvert_exporter": "python",
   "pygments_lexer": "ipython3",
   "version": "3.5.6"
  }
 },
 "nbformat": 4,
 "nbformat_minor": 2
}
